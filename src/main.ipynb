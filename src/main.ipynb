{
  "cells": [
    {
      "cell_type": "markdown",
      "source": [
        "---\n",
        "execute:\n",
        "    echo: false\n",
        "    warning: false\n",
        "\n",
        "format:\n",
        "    html:\n",
        "        themes: \"theme_ipol.scss\"\n",
        "        self-contained: true\n",
        "---"
      ],
      "metadata": {
        "id": "sMi7xIyvD9eg"
      }
    },
    {
      "cell_type": "code",
      "execution_count": 165,
      "metadata": {
        "tags": [
          "parameters"
        ],
        "id": "RUMapaf1-7Wb"
      },
      "outputs": [],
      "source": [
        "n_nodes = 78 #@param {type:\"slider\", min:2, max:300, step:1}\n",
        "prob_law = \"weibull\" #@param [\"log_normal\", \"gaussian\", \"poisson\", \"uniform\", \"laplacian\", \"pareto\", \"weibull\"]\n",
        "feature_dims = 10 #@param {type:\"slider\", min:10, max:100, step:1}\n"
      ]
    },
    {
      "cell_type": "code",
      "execution_count": 166,
      "metadata": {
        "id": "GcRini0L-7Wc"
      },
      "outputs": [],
      "source": [
        "n_montecarlo = 1\n",
        "gamma_list = [1.2, 1., 0.9, 0.8, 0.7, 0.6, 0.5, 0.4, 0.3, 0.2]"
      ]
    },
    {
      "cell_type": "code",
      "execution_count": 167,
      "metadata": {
        "id": "oLJlKO6j-7Wd"
      },
      "outputs": [],
      "source": [
        "import numpy as np\n",
        "import scipy\n",
        "import random\n",
        "import math\n",
        "import matplotlib.pyplot as plt\n",
        "import matplotlib as mpl\n",
        "from sklearn.linear_model import Ridge, RidgeCV\n",
        "from scipy.stats import lognorm, poisson, uniform, norm, randint, weibull_min, laplace, pareto\n",
        "from matplotlib import rc\n",
        "import os\n",
        "#import pandas as pd\n",
        "#import plotly.express as px\n",
        "#from plotly import graph_objects as go, io as pio\n",
        "#pio.renderers.default='notebook_connected'"
      ]
    },
    {
      "cell_type": "code",
      "execution_count": 168,
      "metadata": {
        "id": "tYa3kzGs-7Wf"
      },
      "outputs": [],
      "source": [
        "mpl.style.use('seaborn-darkgrid')\n",
        "mpl.style.use('seaborn-pastel')\n",
        "mpl.rcParams['font.size'] = 15"
      ]
    },
    {
      "cell_type": "code",
      "execution_count": 169,
      "metadata": {
        "id": "PCKeZ1M7-7Wg"
      },
      "outputs": [],
      "source": [
        "#synthetize data of dimension d for all M nodes, where n is the sample size vector\n",
        "def synt_data(M, d, n):\n",
        "    theta_star = np.random.uniform(size = d)\n",
        "    x = []\n",
        "    y = []\n",
        "    for i in range(M):\n",
        "        x_i = np.random.normal(loc = 0, scale = 1., size = (n[i], d))\n",
        "        x.append(x_i)\n",
        "        y_i = x_i @ theta_star + np.random.normal(loc = 0, scale = 1., size = n[i])\n",
        "        y.append(y_i)\n",
        "    return x, y, theta_star\n",
        "\n",
        "def get_law_data_nodes(prob_law, n_nodes, gamma):\n",
        "    \n",
        "    if prob_law == 'gaussian':\n",
        "        law_datanodes = norm.rvs(n_nodes**gamma, 0.1*n_nodes**gamma, size=n_nodes)\n",
        "    elif prob_law == 'log_normal':\n",
        "        law_datanodes = lognorm.rvs(1, scale = (n_nodes**gamma)*np.exp(-1/2), size = n_nodes)\n",
        "    elif prob_law == 'poisson':\n",
        "        law_datanodes = poisson.rvs(n_nodes**gamma, size=n_nodes)\n",
        "    elif prob_law == 'uniform':\n",
        "        law_datanodes = randint.rvs(0, 2*n_nodes**gamma, size=n_nodes)\n",
        "    elif prob_law == 'laplacian':\n",
        "        law_datanodes = laplace.rvs(loc=n_nodes**gamma, scale=0.1*n_nodes**gamma, size=n_nodes)\n",
        "    elif prob_law == 'pareto':\n",
        "        law_datanodes = pareto.rvs(b=2, scale=n_nodes**gamma/2, size=n_nodes)\n",
        "    elif prob_law == 'weibull':\n",
        "        law_datanodes = weibull_min.rvs(c=1.5, scale=n_nodes**gamma/math.gamma(1+1/1.5), size=n_nodes)\n",
        "    else:\n",
        "        raise NotImplementedError\n",
        "\n",
        "    for i in range(n_nodes):\n",
        "        #to ensure that the sample size is at least 1\n",
        "        law_datanodes[i] = max(1, law_datanodes[i])\n",
        "\n",
        "    return law_datanodes.astype(int)\n",
        "\n",
        "\n",
        "#compute the weights derived from the solution of the optimization problem\n",
        "def weights(a, b):\n",
        "    M = len(a)\n",
        "    k = 0\n",
        "    ord_b = np.sort(b)\n",
        "    ord_ind = np.argsort(b)\n",
        "    weights = np.zeros(M)\n",
        "    temp_ab = ord_b[0]/a[ord_ind[0]]\n",
        "    temp_a = 1./a[ord_ind[0]]\n",
        "    sum_ord_ab = 0\n",
        "    sum_ord_a = 0\n",
        "    while ord_b[k] <= (2 + temp_ab) / (temp_a):\n",
        "        sum_ord_ab += ord_b[k]/a[ord_ind[k]]\n",
        "        sum_ord_a += 1./a[ord_ind[k]]\n",
        "        if k == M-1:\n",
        "            break\n",
        "        k += 1\n",
        "        temp_ab = sum_ord_ab + ord_b[k]/a[ord_ind[k]]\n",
        "        temp_a = sum_ord_a + 1./a[ord_ind[k]]\n",
        "    for i in range(k):\n",
        "        ind = ord_ind[i]\n",
        "        weights[ind] = - 0.5*b[ind]/a[ind] + 1./a[ind]*(1. + 0.5*sum_ord_ab)/sum_ord_a\n",
        "    return weights\n",
        "\n",
        "def repro_vary(montecarlo_rounds, n_nodes, feature_dims, gamma_list, prob_law):\n",
        "    \n",
        "    # initialization\n",
        "    n_gammas = len(gamma_list)\n",
        "    sco_theta = np.zeros(n_gammas)\n",
        "    sco_theta_s = np.zeros(n_gammas)\n",
        "    sco_theta_GP = np.zeros(n_gammas)\n",
        "    \n",
        "    for gamma_idx, gamma in enumerate(gamma_list):                \n",
        "        #for each gamma, where the sample size expectation is equal to M^gamma\n",
        "        for k in range(montecarlo_rounds):\n",
        "            \n",
        "            # generate number of samples per client\n",
        "            samples_per_node = get_law_data_nodes(prob_law, n_nodes, gamma)\n",
        "            lamb = 1./np.sqrt(np.sum(samples_per_node))\n",
        "\n",
        "            if gamma_idx == 0:\n",
        "              # plot the samples per node distribution only for gamma=1.2\n",
        "              samples_per_node_to_plot = samples_per_node\n",
        "            \n",
        "            # generate data and labels\n",
        "            x, y, theta_star = synt_data(n_nodes, feature_dims, samples_per_node)\n",
        "            clf = Ridge(alpha = lamb)\n",
        "            clf.fit(np.concatenate(x), np.concatenate(y))\n",
        "            theta = clf.coef_\n",
        "            theta_nodes = np.zeros((n_nodes, feature_dims))\n",
        "            \n",
        "            # local steps in all the nodes\n",
        "            for i,[xi,yi] in enumerate(zip(x,y)):\n",
        "                #lamb = 1./np.sqrt(n[i])\n",
        "                clf = Ridge(alpha = lamb)\n",
        "                clf.fit(xi, yi)\n",
        "                theta_nodes[i] = clf.coef_\n",
        "                \n",
        "            # server aggregation\n",
        "            theta_s = np.dot(samples_per_node/np.sum(samples_per_node), theta_nodes)     #theta with weights proportional to the sample size\n",
        "            weights_GP = weights(1./samples_per_node, 1./samples_per_node**2)            #weights obtained for theta \"Good Practice\"\n",
        "            theta_GP = np.dot(weights_GP, theta_nodes)\n",
        "            \n",
        "            sco_theta[gamma_idx] += 1./montecarlo_rounds*np.linalg.norm(theta - theta_star, 2)**2.\n",
        "            sco_theta_s[gamma_idx] += 1./montecarlo_rounds*np.linalg.norm(theta_s - theta_star, 2)**2.\n",
        "            sco_theta_GP[gamma_idx] += 1./montecarlo_rounds*np.linalg.norm(theta_GP - theta_star, 2)**2.\n",
        "            \n",
        "    return sco_theta, sco_theta_s, sco_theta_GP, samples_per_node_to_plot"
      ]
    },
    {
      "cell_type": "code",
      "source": [
        ""
      ],
      "metadata": {
        "id": "sjjIXWAeTdLh"
      },
      "execution_count": 162,
      "outputs": []
    },
    {
      "cell_type": "code",
      "source": [
        "def plot_nodes_histogram(samples_per_node):\n",
        "\n",
        "    '''\n",
        "    df = pd.DataFrame(samples_per_node, columns=['samples_per_node'])\n",
        "    fig = px.histogram(df, x='samples_per_node')\n",
        "    return fig\n",
        "    '''\n",
        "    plt.figure()\n",
        "    plt.hist(samples_per_node, bins=80)\n",
        "    plt.xlabel(\"# samples per node\")\n",
        "    plt.title('Samples per node histogram')\n",
        "    plt.grid('on')\n",
        "    #plt.savefig('nodes_hist.png', dpi=300, bbox_inches='tight')\n",
        "    \n",
        "def plot_and_save(a, gammas, n_nodes):\n",
        "\n",
        "    plt.figure()\n",
        "    mean_samples_per_node = [n_nodes**g for g in gammas]\n",
        "    plt.plot(mean_samples_per_node, a[0], '+-', label = \"Centralized\")\n",
        "    plt.plot(mean_samples_per_node, a[1], '+-', label = \"Federated\")\n",
        "    plt.plot(mean_samples_per_node, a[2], '+-',label = \"FESC\")\n",
        "    plt.yscale('log')\n",
        "    plt.xscale('log')\n",
        "    plt.legend()\n",
        "    plt.xlabel(\"Mean # samples per node\")\n",
        "    plt.ylabel(\"MSE\")\n",
        "    plt.grid('on')\n",
        "    #plt.savefig('this_is_not_the_output.png', dpi=300, bbox_inches='tight')\n",
        "\n",
        "def plot_images(a, gammas, n_nodes, samples_per_node):\n",
        "\n",
        "    # samples per node histogram\n",
        "    f = plt.figure(figsize=(14,5))\n",
        "    ax1 = f.add_subplot(121)\n",
        "    ax2 = f.add_subplot(122)\n",
        "\n",
        "    weights = np.ones_like(samples_per_node)/float(len(samples_per_node))\n",
        "    ax1.hist(samples_per_node, bins=int(0.2*n_nodes), weights=weights)\n",
        "    ax1.set_xlabel(\"number of samples per node\")\n",
        "    ax1.set_ylabel(\"frequency\")\n",
        "    ax1.set_title('samples per node histogram')\n",
        "    ax1.grid('on')\n",
        "\n",
        "    # output image\n",
        "    ax2.plot(gammas, a[0], '+-', label = \"Centralized\")\n",
        "    ax2.plot(gammas, a[1], '+-', label = \"Federated\")\n",
        "    ax2.plot(gammas, a[2], '+-',label = \"FESC\")\n",
        "    ax2.set_yscale('log')\n",
        "    ax2.legend()\n",
        "    ax2.set_xlabel(\"gamma\")\n",
        "    ax2.set_title('MSE vs mean samples per node')\n",
        "    ax2.set_ylabel(\"mean square error (MSE)\")\n",
        "    ax2.grid('on')\n",
        "\n",
        "    plt.tight_layout()"
      ],
      "metadata": {
        "id": "3ITKlrmCTb6m"
      },
      "execution_count": 163,
      "outputs": []
    },
    {
      "cell_type": "code",
      "execution_count": 164,
      "metadata": {
        "id": "Yr-hlJrX-7Wm"
      },
      "outputs": [],
      "source": [
        "sco_theta, sco_theta_s, sco_theta_GP, samples_per_node = repro_vary(n_montecarlo, n_nodes, feature_dims, gamma_list, prob_law)"
      ]
    },
    {
      "cell_type": "code",
      "source": [
        ""
      ],
      "metadata": {
        "id": "Py3Xfrudxhff"
      },
      "execution_count": 156,
      "outputs": []
    },
    {
      "cell_type": "markdown",
      "source": [
        "::: {.column-screen}"
      ],
      "metadata": {
        "id": "7BE2wsJlvli4"
      }
    },
    {
      "cell_type": "code",
      "source": [
        "print('You need at least {} samples (in average) per node to equal the performance of a centralized training with Federated Learning'.format(n_nodes))"
      ],
      "metadata": {
        "colab": {
          "base_uri": "https://localhost:8080/"
        },
        "id": "lyRtzZG1q0A0",
        "outputId": "88d92c69-0917-4f0c-beba-08bf6c5fa9af"
      },
      "execution_count": 170,
      "outputs": [
        {
          "output_type": "stream",
          "name": "stdout",
          "text": [
            "You need at least 78 samples (in average) per node to equal the performance of a centralized training with Federated Learning\n"
          ]
        }
      ]
    },
    {
      "cell_type": "markdown",
      "source": [
        ":::"
      ],
      "metadata": {
        "id": "VGURuOyjvmjB"
      }
    },
    {
      "cell_type": "markdown",
      "source": [
        "::: {.column-screen}"
      ],
      "metadata": {
        "id": "hTxCgIGLl5bQ"
      }
    },
    {
      "cell_type": "code",
      "source": [
        ""
      ],
      "metadata": {
        "id": "LllnR1p3vqFr"
      },
      "execution_count": 157,
      "outputs": []
    },
    {
      "cell_type": "code",
      "source": [
        "plot_images([sco_theta, sco_theta_s, sco_theta_GP], gamma_list, n_nodes, samples_per_node)"
      ],
      "metadata": {
        "colab": {
          "base_uri": "https://localhost:8080/",
          "height": 358
        },
        "id": "1ED_8c9CgjWN",
        "outputId": "909eff64-8ecc-480a-8c63-fe991a218122"
      },
      "execution_count": 158,
      "outputs": [
        {
          "output_type": "display_data",
          "data": {
            "text/plain": [
              "<Figure size 1008x360 with 2 Axes>"
            ],
            "image/png": "[encoded data removed]"
          },
          "metadata": {}
        }
      ]
    },
    {
      "cell_type": "markdown",
      "source": [
        ":::"
      ],
      "metadata": {
        "id": "1cnzVQ25l_BF"
      }
    },
    {
      "cell_type": "code",
      "source": [
        ""
      ],
      "metadata": {
        "id": "wNJF0YmejdWM"
      },
      "execution_count": 158,
      "outputs": []
    }
  ],
  "metadata": {
    "celltoolbar": "Tags",
    "kernelspec": {
      "display_name": "Python 3",
      "language": "python",
      "name": "python3"
    },
    "language_info": {
      "codemirror_mode": {
        "name": "ipython",
        "version": 3
      },
      "file_extension": ".py",
      "mimetype": "text/x-python",
      "name": "python",
      "nbconvert_exporter": "python",
      "pygments_lexer": "ipython3",
      "version": "3.6.9"
    },
    "colab": {
      "name": "main.ipynb",
      "provenance": [],
      "collapsed_sections": []
    }
  },
  "nbformat": 4,
  "nbformat_minor": 0
}