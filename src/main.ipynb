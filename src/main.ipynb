{
  "cells": [
    {
      "cell_type": "markdown",
      "source": [
        "---\n",
        "execute:\n",
        "    echo: false\n",
        "    warning: false\n",
        "\n",
        "format:\n",
        "    html:\n",
        "        themes: \"theme_ipol.scss\"\n",
        "        self-contained: true\n",
        "---"
      ],
      "metadata": {
        "id": "sMi7xIyvD9eg"
      }
    },
    {
      "cell_type": "code",
      "execution_count": 1,
      "metadata": {
        "tags": [
          "parameters"
        ],
        "id": "RUMapaf1-7Wb"
      },
      "outputs": [],
      "source": [
        "n_nodes = 78 #@param {type:\"slider\", min:2, max:300, step:1}\n",
        "prob_law = \"weibull\" #@param [\"log_normal\", \"gaussian\", \"poisson\", \"uniform\", \"laplacian\", \"pareto\", \"weibull\"]\n",
        "feature_dims = 10 #@param {type:\"slider\", min:10, max:100, step:1}\n"
      ]
    },
    {
      "cell_type": "code",
      "execution_count": 2,
      "metadata": {
        "id": "GcRini0L-7Wc"
      },
      "outputs": [],
      "source": [
        "n_montecarlo = 1\n",
        "gamma_list = [1.2, 1.0, 0.9, 0.8, 0.7, 0.6, 0.5, 0.4, 0.3, 0.2]"
      ]
    },
    {
      "cell_type": "code",
      "execution_count": 3,
      "metadata": {
        "id": "oLJlKO6j-7Wd"
      },
      "outputs": [],
      "source": [
        "import numpy as np\n",
        "import scipy\n",
        "import random\n",
        "import math\n",
        "import matplotlib.pyplot as plt\n",
        "import matplotlib as mpl\n",
        "from sklearn.linear_model import Ridge, RidgeCV\n",
        "from scipy.stats import lognorm, poisson, uniform, norm, randint, weibull_min, laplace, pareto\n",
        "from matplotlib import rc\n",
        "import plotly.express as px\n",
        "from plotly.subplots import make_subplots\n",
        "import plotly.graph_objects as go\n",
        "import plotly.io as pio\n",
        "pio.renderers.default='notebook_connected'\n",
        "plt.ion()"
      ]
    },
    {
      "cell_type": "code",
      "execution_count": 4,
      "metadata": {
        "id": "tYa3kzGs-7Wf"
      },
      "outputs": [],
      "source": [
        "mpl.style.use('seaborn-darkgrid')\n",
        "mpl.style.use('seaborn-pastel')\n",
        "mpl.rcParams['font.size'] = 15"
      ]
    },
    {
      "cell_type": "code",
      "execution_count": 5,
      "metadata": {
        "id": "PCKeZ1M7-7Wg"
      },
      "outputs": [],
      "source": [
        "def generate_data(dimension, number_samples_per_node):\n",
        "    '''\n",
        "    Generate synthetic data and labels for all de nodes. Data samples are obtained from a standard\n",
        "    normal distribution, and the labels are synthetized using a randomly generated parameter vector\n",
        "    (where each of the componentes are randomly distributed).\n",
        "    Args:\n",
        "      dimension (int): dimension of the data vector (x)\n",
        "      number_samples_per_node (list or array): contains the number of samples for each node.\n",
        "    Returns:\n",
        "      x (list): the data samples of each node\n",
        "      y (list): the labels of each node\n",
        "      theta_star (array): the parameter vector\n",
        "    '''\n",
        "    theta_star = np.random.uniform(size = dimension)\n",
        "    x = []\n",
        "    y = []\n",
        "    for n_samples in number_samples_per_node:\n",
        "        x_i = np.random.normal(loc = 0, scale = 1., size = (n_samples, dimension))\n",
        "        y_i = x_i @ theta_star + np.random.normal(loc = 0, scale = 1., size = n_samples)\n",
        "        x.append(x_i)\n",
        "        y.append(y_i)\n",
        "\n",
        "    return x, y, theta_star\n",
        "\n",
        "def get_law_data_nodes(prob_law, n_nodes, gamma):\n",
        "    '''\n",
        "    Returns the number of samples per node from a given probability law with mean n_nodes**gamma.\n",
        "    Args:\n",
        "      prob_law (str): the probability distribution of the number of samples per node. Supported: 'gaussian', 'log_normal', 'poisson', \n",
        "      'uniform', 'laplacian', 'pareto', 'weibull'. Raises NotImplementedError if the probability law is not supported.\n",
        "      n_nodes (int): the total number of nodes\n",
        "      gamma (float): the parameter to set the mean number of samples per node (which is equal to n_nodes**gamma)\n",
        "\n",
        "    Returns:\n",
        "      an array of length n_nodes containing the number of samples for each node.\n",
        "    '''\n",
        "    \n",
        "    if prob_law == 'gaussian':\n",
        "        law_datanodes = norm.rvs(n_nodes**gamma, 0.1*n_nodes**gamma, size=n_nodes)\n",
        "    elif prob_law == 'log_normal':\n",
        "        law_datanodes = lognorm.rvs(1, scale = (n_nodes**gamma)*np.exp(-1/2), size = n_nodes)\n",
        "    elif prob_law == 'poisson':\n",
        "        law_datanodes = poisson.rvs(n_nodes**gamma, size=n_nodes)\n",
        "    elif prob_law == 'uniform':\n",
        "        law_datanodes = randint.rvs(0, 2*n_nodes**gamma, size=n_nodes)\n",
        "    elif prob_law == 'laplacian':\n",
        "        law_datanodes = laplace.rvs(loc=n_nodes**gamma, scale=0.1*n_nodes**gamma, size=n_nodes)\n",
        "    elif prob_law == 'pareto':\n",
        "        law_datanodes = pareto.rvs(b=2, scale=n_nodes**gamma/2, size=n_nodes)\n",
        "    elif prob_law == 'weibull':\n",
        "        law_datanodes = weibull_min.rvs(c=1.5, scale=n_nodes**gamma/math.gamma(1+1/1.5), size=n_nodes)\n",
        "    else:\n",
        "        raise NotImplementedError\n",
        "\n",
        "    for i in range(n_nodes):\n",
        "        #to ensure that the sample size is at least 1\n",
        "        law_datanodes[i] = max(1, law_datanodes[i])\n",
        "\n",
        "    return law_datanodes.astype(int)\n",
        "\n",
        "def weights(a, b):\n",
        "    '''\n",
        "    Computes the weights derived from the solution of the optimization problem\n",
        "    Need to refactor\n",
        "    '''\n",
        "    M = len(a)\n",
        "    k = 0\n",
        "    ord_b = np.sort(b)\n",
        "    ord_ind = np.argsort(b)\n",
        "    weights = np.zeros(M)\n",
        "    temp_ab = ord_b[0]/a[ord_ind[0]]\n",
        "    temp_a = 1./a[ord_ind[0]]\n",
        "    sum_ord_ab = 0\n",
        "    sum_ord_a = 0\n",
        "    while ord_b[k] <= (2 + temp_ab) / (temp_a):\n",
        "        sum_ord_ab += ord_b[k]/a[ord_ind[k]]\n",
        "        sum_ord_a += 1./a[ord_ind[k]]\n",
        "        if k == M-1:\n",
        "            break\n",
        "        k += 1\n",
        "        temp_ab = sum_ord_ab + ord_b[k]/a[ord_ind[k]]\n",
        "        temp_a = sum_ord_a + 1./a[ord_ind[k]]\n",
        "    for i in range(k):\n",
        "        ind = ord_ind[i]\n",
        "        weights[ind] = - 0.5*b[ind]/a[ind] + 1./a[ind]*(1. + 0.5*sum_ord_ab)/sum_ord_a\n",
        "    return weights\n",
        "\n",
        "def launch_simulation(montecarlo_rounds, n_nodes, feature_dims, gamma_list, prob_law):\n",
        "    '''\n",
        "    Launches simulation. Data is generated, and the theta parameter is estimated in 3 different ways: centralized learning, \n",
        "    classic Federated Learning and with the FESC algorithm.\n",
        "    Args:\n",
        "      montecarlo_round (int): number of Montecarlo iterations\n",
        "      n_nodes (int): number of nodes \n",
        "      feature_dims (int): number of dimensions of the features space\n",
        "      gamma_list (list or array): contains the different gammas for which the simulation will be performed\n",
        "      prob_law (str): probability distribution of the number of samples per node (of mean n_nodes**gamma)\n",
        "    Returns:\n",
        "      mse_theta_centralized (array): contains the MSE of the centralized model, for each gamma\n",
        "      mse_theta_fed (array): contains the MSE of the classicl federated model, for each gamma\n",
        "      mse_theta_FESC (array): contains the MSE of the FESC model, for each gamma\n",
        "      samples_per_node_to_plot (array): samples per node for gamma=1.2. This is used to illustrate the chosen probability distribution\n",
        "    '''\n",
        "    \n",
        "    # initialization\n",
        "    mse_centralized = np.zeros(len(gamma_list))\n",
        "    mse_fed = np.zeros(len(gamma_list))\n",
        "    mse_FESC = np.zeros(len(gamma_list))\n",
        "    \n",
        "    for gamma_idx, gamma in enumerate(gamma_list):                \n",
        "        #for each gamma, where the sample size expectation is equal to M^gamma\n",
        "        for _ in range(montecarlo_rounds):\n",
        "            \n",
        "            # generate number of samples per client\n",
        "            samples_per_node = get_law_data_nodes(prob_law, n_nodes, gamma)\n",
        "            lambda_ridge = 1./np.sqrt(np.sum(samples_per_node)) # lambda parameter of the ridge regression\n",
        "\n",
        "            # plot the samples per node histogram only for gamma=1.2\n",
        "            if gamma_idx == 0:\n",
        "              samples_per_node_to_plot = samples_per_node\n",
        "            \n",
        "            # generate data and labels\n",
        "            x, y, theta_star = generate_data(feature_dims, samples_per_node)\n",
        "\n",
        "            # centralized training\n",
        "            model = Ridge(alpha = lambda_ridge)\n",
        "            model.fit(np.concatenate(x), np.concatenate(y))\n",
        "            theta_centralized = model.coef_\n",
        "\n",
        "            # federated training\n",
        "            theta_nodes = np.zeros((n_nodes, feature_dims))\n",
        "\n",
        "            # local steps in all the nodes\n",
        "            for i,[xi,yi] in enumerate(zip(x,y)):\n",
        "                model = Ridge(alpha = lambda_ridge)\n",
        "                model.fit(xi, yi)\n",
        "                theta_nodes[i] = model.coef_\n",
        "                \n",
        "            # server aggregation\n",
        "            theta_fed = np.dot(samples_per_node/np.sum(samples_per_node), theta_nodes) # theta with weights proportional to the sample size\n",
        "            weights_FESC = weights(1./samples_per_node, 1./samples_per_node**2) # weights obtained for theta \"Good Practice\"\n",
        "            theta_FESC = np.dot(weights_FESC, theta_nodes)\n",
        "            \n",
        "            # compute MSE\n",
        "            mse_centralized[gamma_idx] += np.linalg.norm(theta_centralized - theta_star, 2)**2 / montecarlo_rounds\n",
        "            mse_fed[gamma_idx] += np.linalg.norm(theta_fed - theta_star, 2)**2 / montecarlo_rounds\n",
        "            mse_FESC[gamma_idx] += np.linalg.norm(theta_FESC - theta_star, 2)**2 / montecarlo_rounds\n",
        "            \n",
        "    return mse_centralized, mse_fed, mse_FESC, samples_per_node_to_plot"
      ]
    },
    {
      "cell_type": "code",
      "source": [
        "def plot_images_interactive(mse_centralized, mse_fed, mse_FESC, gammas, n_nodes, samples_per_node):\n",
        "    '''\n",
        "    Plots interactive images that show the results\n",
        "    Args:\n",
        "      mse_centralized (array): contains the MSE of the centralized model, for each gamma\n",
        "      mse_fed (array): contains the MSE of the classicl federated model, for each gamma\n",
        "      mse_FESC (array): contains the MSE of the FESC model, for each gamma\n",
        "      gammas (list or array): gammas used for each MSE\n",
        "      n_nodes (int): number of nodes\n",
        "      samples_per_node (list or array): contains the number of samples for each node\n",
        "    '''\n",
        "\n",
        "    fig = make_subplots(rows=1, cols=2, subplot_titles=('samples per node histogram', 'MSE vs mean samples per node'))\n",
        "\n",
        "    fig.add_trace(go.Histogram(x=samples_per_node, nbinsx=int(0.2*n_nodes), histnorm=\"percent\", showlegend = False),1,1)\n",
        "    fig.update_xaxes(title_text=\"number of samples per node\", row=1, col=1)\n",
        "    fig.update_yaxes(title_text=\"count\", row=1, col=1)\n",
        "\n",
        "    fig.add_trace(go.Scatter(x=gammas, y=mse_centralized, name=\"Centralized\"),1,2)\n",
        "    fig.add_trace(go.Scatter(x=gammas, y=mse_fed, name='Federated'),1,2)\n",
        "    fig.add_trace(go.Scatter(x=gammas, y=mse_FESC, name='FESC'),1,2)\n",
        "    \n",
        "    fig.update_xaxes(title_text=\"gamma\", row=1, col=2)\n",
        "    fig.update_yaxes(title_text=\"mean squared error (MSE)\", type=\"log\", row=1, col=2)\n",
        "\n",
        "    fig.update_layout(showlegend=True)\n",
        "\n",
        "    fig.show()\n",
        "\n",
        "def plot_result(mse_centralized, mse_fed, mse_FESC, gammas, n_nodes, samples_per_node):\n",
        "    '''\n",
        "    Plots the simulation results.\n",
        "    Args:\n",
        "      mse_centralized (array): contains the MSE of the centralized model, for each gamma\n",
        "      mse_fed (array): contains the MSE of the classicl federated model, for each gamma\n",
        "      mse_FESC (array): contains the MSE of the FESC model, for each gamma\n",
        "      gammas (list or array): gammas used for each MSE\n",
        "      n_nodes (int): number of nodes\n",
        "      samples_per_node (list or array): contains the number of samples for each node\n",
        "    '''\n",
        "\n",
        "    # samples per node histogram\n",
        "    f = plt.figure(figsize=(14,5))\n",
        "    ax1 = f.add_subplot(121)\n",
        "    ax2 = f.add_subplot(122)\n",
        "\n",
        "    weights = np.ones_like(samples_per_node)/float(len(samples_per_node))\n",
        "    ax1.hist(samples_per_node, bins=int(0.2*n_nodes), weights=weights)\n",
        "    ax1.set_xlabel(\"number of samples per node\")\n",
        "    ax1.set_ylabel(\"count\")\n",
        "    ax1.set_title('samples per node histogram')\n",
        "    ax1.grid('on')\n",
        "\n",
        "    # output image\n",
        "    ax2.plot(gammas, mse_centralized, '+-', label = \"Centralized\") #sco theta\n",
        "    ax2.plot(gammas, mse_fed, '+-', label = \"Federated\") #sco theta s\n",
        "    ax2.plot(gammas, mse_FESC, '+-',label = \"FESC\") #sco theta GP\n",
        "    ax2.set_yscale('log')\n",
        "    ax2.legend()\n",
        "    ax2.set_xlabel(\"gamma\")\n",
        "    ax2.set_title('MSE vs mean samples per node')\n",
        "    ax2.set_ylabel(\"mean squared error (MSE)\")\n",
        "    ax2.grid('on')\n",
        "\n",
        "    plt.tight_layout()"
      ],
      "metadata": {
        "id": "3ITKlrmCTb6m"
      },
      "execution_count": 6,
      "outputs": []
    },
    {
      "cell_type": "code",
      "execution_count": 7,
      "metadata": {
        "id": "Yr-hlJrX-7Wm"
      },
      "outputs": [],
      "source": [
        "mse_centralized, mse_fed, mse_FESC, samples_per_node = launch_simulation(n_montecarlo, n_nodes, feature_dims, gamma_list, prob_law)"
      ]
    },
    {
      "cell_type": "markdown",
      "source": [
        "::: {.column-screen}"
      ],
      "metadata": {
        "id": "7BE2wsJlvli4"
      }
    },
    {
      "cell_type": "code",
      "source": [
        "print('You need at least {} samples (in average) per node to equal the performance of a centralized training with Federated Learning'.format(n_nodes))"
      ],
      "metadata": {
        "colab": {
          "base_uri": "https://localhost:8080/"
        },
        "id": "lyRtzZG1q0A0",
        "outputId": "e186c978-b037-4966-8a73-9bde6716cc27"
      },
      "execution_count": 8,
      "outputs": [
        {
          "output_type": "stream",
          "name": "stdout",
          "text": [
            "You need at least 78 samples (in average) per node to equal the performance of a centralized training with Federated Learning\n"
          ]
        }
      ]
    },
    {
      "cell_type": "markdown",
      "source": [
        ":::"
      ],
      "metadata": {
        "id": "VGURuOyjvmjB"
      }
    },
    {
      "cell_type": "markdown",
      "source": [
        "::: {.column-screen}"
      ],
      "metadata": {
        "id": "hTxCgIGLl5bQ"
      }
    },
    {
      "cell_type": "code",
      "source": [
        "plot_images_interactive(mse_centralized, mse_fed, mse_FESC, gamma_list, n_nodes, samples_per_node)"
      ],
      "metadata": {
        "colab": {
          "base_uri": "https://localhost:8080/",
          "height": 542
        },
        "id": "1ED_8c9CgjWN",
        "outputId": "da0f38c2-7deb-4413-ff23-b7d7fbab0e5a"
      },
      "execution_count": 9,
      "outputs": [
        {
          "output_type": "display_data",
          "data": {
            "text/html": [
              "        <script type=\"text/javascript\">\n",
              "        window.PlotlyConfig = {MathJaxConfig: 'local'};\n",
              "        if (window.MathJax) {MathJax.Hub.Config({SVG: {font: \"STIX-Web\"}});}\n",
              "        if (typeof require !== 'undefined') {\n",
              "        require.undef(\"plotly\");\n",
              "        requirejs.config({\n",
              "            paths: {\n",
              "                'plotly': ['https://cdn.plot.ly/plotly-2.8.3.min']\n",
              "            }\n",
              "        });\n",
              "        require(['plotly'], function(Plotly) {\n",
              "            window._Plotly = Plotly;\n",
              "        });\n",
              "        }\n",
              "        </script>\n",
              "        "
            ]
          },
          "metadata": {}
        },
        {
          "output_type": "display_data",
          "data": {
            "text/html": [
              "<div>                            <div id=\"142370bc-4206-4c3b-98cf-54b0e9598684\" class=\"plotly-graph-div\" style=\"height:525px; width:100%;\"></div>            <script type=\"text/javascript\">                require([\"plotly\"], function(Plotly) {                    window.PLOTLYENV=window.PLOTLYENV || {};                                    if (document.getElementById(\"142370bc-4206-4c3b-98cf-54b0e9598684\")) {                    Plotly.newPlot(                        \"142370bc-4206-4c3b-98cf-54b0e9598684\",                        [{\"histnorm\":\"percent\",\"nbinsx\":15,\"showlegend\":false,\"x\":[75,329,282,1,350,317,99,473,67,489,55,397,243,130,70,150,446,222,294,517,256,263,256,249,501,166,131,193,354,169,59,352,199,372,402,62,230,325,117,123,21,291,19,465,90,35,266,515,138,445,447,377,349,73,100,76,225,145,98,222,153,83,371,204,213,5,21,217,65,212,358,130,208,32,98,123,145,34],\"type\":\"histogram\",\"xaxis\":\"x\",\"yaxis\":\"y\"},{\"name\":\"Centralized\",\"x\":[1.2,1.0,0.9,0.8,0.7,0.6,0.5,0.4,0.3,0.2],\"y\":[0.0003958713091062695,0.0014077203502707916,0.002590822926302429,0.003223930897076191,0.005711472371223367,0.009907173725091574,0.010337718457900746,0.029070170970636938,0.04586117020671408,0.11094581554341726],\"type\":\"scatter\",\"xaxis\":\"x2\",\"yaxis\":\"y2\"},{\"name\":\"Federated\",\"x\":[1.2,1.0,0.9,0.8,0.7,0.6,0.5,0.4,0.3,0.2],\"y\":[0.00043808173971735345,0.001523633342410427,0.0038742596849750035,0.0055581649791344185,0.020135460953367858,0.12539728298930758,0.20254759720957646,0.7827694174543722,2.107402815915421,2.441151377862246],\"type\":\"scatter\",\"xaxis\":\"x2\",\"yaxis\":\"y2\"},{\"name\":\"FESC\",\"x\":[1.2,1.0,0.9,0.8,0.7,0.6,0.5,0.4,0.3,0.2],\"y\":[0.0004586325660878153,0.0013181881677515061,0.003031310134162753,0.0021781081924065553,0.01628756084467275,0.03856784869122263,0.04105155426750327,0.5489627127748391,1.3347679748031571,1.6909360903218014],\"type\":\"scatter\",\"xaxis\":\"x2\",\"yaxis\":\"y2\"}],                        {\"template\":{\"data\":{\"bar\":[{\"error_x\":{\"color\":\"#2a3f5f\"},\"error_y\":{\"color\":\"#2a3f5f\"},\"marker\":{\"line\":{\"color\":\"#E5ECF6\",\"width\":0.5},\"pattern\":{\"fillmode\":\"overlay\",\"size\":10,\"solidity\":0.2}},\"type\":\"bar\"}],\"barpolar\":[{\"marker\":{\"line\":{\"color\":\"#E5ECF6\",\"width\":0.5},\"pattern\":{\"fillmode\":\"overlay\",\"size\":10,\"solidity\":0.2}},\"type\":\"barpolar\"}],\"carpet\":[{\"aaxis\":{\"endlinecolor\":\"#2a3f5f\",\"gridcolor\":\"white\",\"linecolor\":\"white\",\"minorgridcolor\":\"white\",\"startlinecolor\":\"#2a3f5f\"},\"baxis\":{\"endlinecolor\":\"#2a3f5f\",\"gridcolor\":\"white\",\"linecolor\":\"white\",\"minorgridcolor\":\"white\",\"startlinecolor\":\"#2a3f5f\"},\"type\":\"carpet\"}],\"choropleth\":[{\"colorbar\":{\"outlinewidth\":0,\"ticks\":\"\"},\"type\":\"choropleth\"}],\"contour\":[{\"colorbar\":{\"outlinewidth\":0,\"ticks\":\"\"},\"colorscale\":[[0.0,\"#0d0887\"],[0.1111111111111111,\"#46039f\"],[0.2222222222222222,\"#7201a8\"],[0.3333333333333333,\"#9c179e\"],[0.4444444444444444,\"#bd3786\"],[0.5555555555555556,\"#d8576b\"],[0.6666666666666666,\"#ed7953\"],[0.7777777777777778,\"#fb9f3a\"],[0.8888888888888888,\"#fdca26\"],[1.0,\"#f0f921\"]],\"type\":\"contour\"}],\"contourcarpet\":[{\"colorbar\":{\"outlinewidth\":0,\"ticks\":\"\"},\"type\":\"contourcarpet\"}],\"heatmap\":[{\"colorbar\":{\"outlinewidth\":0,\"ticks\":\"\"},\"colorscale\":[[0.0,\"#0d0887\"],[0.1111111111111111,\"#46039f\"],[0.2222222222222222,\"#7201a8\"],[0.3333333333333333,\"#9c179e\"],[0.4444444444444444,\"#bd3786\"],[0.5555555555555556,\"#d8576b\"],[0.6666666666666666,\"#ed7953\"],[0.7777777777777778,\"#fb9f3a\"],[0.8888888888888888,\"#fdca26\"],[1.0,\"#f0f921\"]],\"type\":\"heatmap\"}],\"heatmapgl\":[{\"colorbar\":{\"outlinewidth\":0,\"ticks\":\"\"},\"colorscale\":[[0.0,\"#0d0887\"],[0.1111111111111111,\"#46039f\"],[0.2222222222222222,\"#7201a8\"],[0.3333333333333333,\"#9c179e\"],[0.4444444444444444,\"#bd3786\"],[0.5555555555555556,\"#d8576b\"],[0.6666666666666666,\"#ed7953\"],[0.7777777777777778,\"#fb9f3a\"],[0.8888888888888888,\"#fdca26\"],[1.0,\"#f0f921\"]],\"type\":\"heatmapgl\"}],\"histogram\":[{\"marker\":{\"pattern\":{\"fillmode\":\"overlay\",\"size\":10,\"solidity\":0.2}},\"type\":\"histogram\"}],\"histogram2d\":[{\"colorbar\":{\"outlinewidth\":0,\"ticks\":\"\"},\"colorscale\":[[0.0,\"#0d0887\"],[0.1111111111111111,\"#46039f\"],[0.2222222222222222,\"#7201a8\"],[0.3333333333333333,\"#9c179e\"],[0.4444444444444444,\"#bd3786\"],[0.5555555555555556,\"#d8576b\"],[0.6666666666666666,\"#ed7953\"],[0.7777777777777778,\"#fb9f3a\"],[0.8888888888888888,\"#fdca26\"],[1.0,\"#f0f921\"]],\"type\":\"histogram2d\"}],\"histogram2dcontour\":[{\"colorbar\":{\"outlinewidth\":0,\"ticks\":\"\"},\"colorscale\":[[0.0,\"#0d0887\"],[0.1111111111111111,\"#46039f\"],[0.2222222222222222,\"#7201a8\"],[0.3333333333333333,\"#9c179e\"],[0.4444444444444444,\"#bd3786\"],[0.5555555555555556,\"#d8576b\"],[0.6666666666666666,\"#ed7953\"],[0.7777777777777778,\"#fb9f3a\"],[0.8888888888888888,\"#fdca26\"],[1.0,\"#f0f921\"]],\"type\":\"histogram2dcontour\"}],\"mesh3d\":[{\"colorbar\":{\"outlinewidth\":0,\"ticks\":\"\"},\"type\":\"mesh3d\"}],\"parcoords\":[{\"line\":{\"colorbar\":{\"outlinewidth\":0,\"ticks\":\"\"}},\"type\":\"parcoords\"}],\"pie\":[{\"automargin\":true,\"type\":\"pie\"}],\"scatter\":[{\"marker\":{\"colorbar\":{\"outlinewidth\":0,\"ticks\":\"\"}},\"type\":\"scatter\"}],\"scatter3d\":[{\"line\":{\"colorbar\":{\"outlinewidth\":0,\"ticks\":\"\"}},\"marker\":{\"colorbar\":{\"outlinewidth\":0,\"ticks\":\"\"}},\"type\":\"scatter3d\"}],\"scattercarpet\":[{\"marker\":{\"colorbar\":{\"outlinewidth\":0,\"ticks\":\"\"}},\"type\":\"scattercarpet\"}],\"scattergeo\":[{\"marker\":{\"colorbar\":{\"outlinewidth\":0,\"ticks\":\"\"}},\"type\":\"scattergeo\"}],\"scattergl\":[{\"marker\":{\"colorbar\":{\"outlinewidth\":0,\"ticks\":\"\"}},\"type\":\"scattergl\"}],\"scattermapbox\":[{\"marker\":{\"colorbar\":{\"outlinewidth\":0,\"ticks\":\"\"}},\"type\":\"scattermapbox\"}],\"scatterpolar\":[{\"marker\":{\"colorbar\":{\"outlinewidth\":0,\"ticks\":\"\"}},\"type\":\"scatterpolar\"}],\"scatterpolargl\":[{\"marker\":{\"colorbar\":{\"outlinewidth\":0,\"ticks\":\"\"}},\"type\":\"scatterpolargl\"}],\"scatterternary\":[{\"marker\":{\"colorbar\":{\"outlinewidth\":0,\"ticks\":\"\"}},\"type\":\"scatterternary\"}],\"surface\":[{\"colorbar\":{\"outlinewidth\":0,\"ticks\":\"\"},\"colorscale\":[[0.0,\"#0d0887\"],[0.1111111111111111,\"#46039f\"],[0.2222222222222222,\"#7201a8\"],[0.3333333333333333,\"#9c179e\"],[0.4444444444444444,\"#bd3786\"],[0.5555555555555556,\"#d8576b\"],[0.6666666666666666,\"#ed7953\"],[0.7777777777777778,\"#fb9f3a\"],[0.8888888888888888,\"#fdca26\"],[1.0,\"#f0f921\"]],\"type\":\"surface\"}],\"table\":[{\"cells\":{\"fill\":{\"color\":\"#EBF0F8\"},\"line\":{\"color\":\"white\"}},\"header\":{\"fill\":{\"color\":\"#C8D4E3\"},\"line\":{\"color\":\"white\"}},\"type\":\"table\"}]},\"layout\":{\"annotationdefaults\":{\"arrowcolor\":\"#2a3f5f\",\"arrowhead\":0,\"arrowwidth\":1},\"autotypenumbers\":\"strict\",\"coloraxis\":{\"colorbar\":{\"outlinewidth\":0,\"ticks\":\"\"}},\"colorscale\":{\"diverging\":[[0,\"#8e0152\"],[0.1,\"#c51b7d\"],[0.2,\"#de77ae\"],[0.3,\"#f1b6da\"],[0.4,\"#fde0ef\"],[0.5,\"#f7f7f7\"],[0.6,\"#e6f5d0\"],[0.7,\"#b8e186\"],[0.8,\"#7fbc41\"],[0.9,\"#4d9221\"],[1,\"#276419\"]],\"sequential\":[[0.0,\"#0d0887\"],[0.1111111111111111,\"#46039f\"],[0.2222222222222222,\"#7201a8\"],[0.3333333333333333,\"#9c179e\"],[0.4444444444444444,\"#bd3786\"],[0.5555555555555556,\"#d8576b\"],[0.6666666666666666,\"#ed7953\"],[0.7777777777777778,\"#fb9f3a\"],[0.8888888888888888,\"#fdca26\"],[1.0,\"#f0f921\"]],\"sequentialminus\":[[0.0,\"#0d0887\"],[0.1111111111111111,\"#46039f\"],[0.2222222222222222,\"#7201a8\"],[0.3333333333333333,\"#9c179e\"],[0.4444444444444444,\"#bd3786\"],[0.5555555555555556,\"#d8576b\"],[0.6666666666666666,\"#ed7953\"],[0.7777777777777778,\"#fb9f3a\"],[0.8888888888888888,\"#fdca26\"],[1.0,\"#f0f921\"]]},\"colorway\":[\"#636efa\",\"#EF553B\",\"#00cc96\",\"#ab63fa\",\"#FFA15A\",\"#19d3f3\",\"#FF6692\",\"#B6E880\",\"#FF97FF\",\"#FECB52\"],\"font\":{\"color\":\"#2a3f5f\"},\"geo\":{\"bgcolor\":\"white\",\"lakecolor\":\"white\",\"landcolor\":\"#E5ECF6\",\"showlakes\":true,\"showland\":true,\"subunitcolor\":\"white\"},\"hoverlabel\":{\"align\":\"left\"},\"hovermode\":\"closest\",\"mapbox\":{\"style\":\"light\"},\"paper_bgcolor\":\"white\",\"plot_bgcolor\":\"#E5ECF6\",\"polar\":{\"angularaxis\":{\"gridcolor\":\"white\",\"linecolor\":\"white\",\"ticks\":\"\"},\"bgcolor\":\"#E5ECF6\",\"radialaxis\":{\"gridcolor\":\"white\",\"linecolor\":\"white\",\"ticks\":\"\"}},\"scene\":{\"xaxis\":{\"backgroundcolor\":\"#E5ECF6\",\"gridcolor\":\"white\",\"gridwidth\":2,\"linecolor\":\"white\",\"showbackground\":true,\"ticks\":\"\",\"zerolinecolor\":\"white\"},\"yaxis\":{\"backgroundcolor\":\"#E5ECF6\",\"gridcolor\":\"white\",\"gridwidth\":2,\"linecolor\":\"white\",\"showbackground\":true,\"ticks\":\"\",\"zerolinecolor\":\"white\"},\"zaxis\":{\"backgroundcolor\":\"#E5ECF6\",\"gridcolor\":\"white\",\"gridwidth\":2,\"linecolor\":\"white\",\"showbackground\":true,\"ticks\":\"\",\"zerolinecolor\":\"white\"}},\"shapedefaults\":{\"line\":{\"color\":\"#2a3f5f\"}},\"ternary\":{\"aaxis\":{\"gridcolor\":\"white\",\"linecolor\":\"white\",\"ticks\":\"\"},\"baxis\":{\"gridcolor\":\"white\",\"linecolor\":\"white\",\"ticks\":\"\"},\"bgcolor\":\"#E5ECF6\",\"caxis\":{\"gridcolor\":\"white\",\"linecolor\":\"white\",\"ticks\":\"\"}},\"title\":{\"x\":0.05},\"xaxis\":{\"automargin\":true,\"gridcolor\":\"white\",\"linecolor\":\"white\",\"ticks\":\"\",\"title\":{\"standoff\":15},\"zerolinecolor\":\"white\",\"zerolinewidth\":2},\"yaxis\":{\"automargin\":true,\"gridcolor\":\"white\",\"linecolor\":\"white\",\"ticks\":\"\",\"title\":{\"standoff\":15},\"zerolinecolor\":\"white\",\"zerolinewidth\":2}}},\"xaxis\":{\"anchor\":\"y\",\"domain\":[0.0,0.45],\"title\":{\"text\":\"number of samples per node\"}},\"yaxis\":{\"anchor\":\"x\",\"domain\":[0.0,1.0],\"title\":{\"text\":\"count\"}},\"xaxis2\":{\"anchor\":\"y2\",\"domain\":[0.55,1.0],\"title\":{\"text\":\"gamma\"}},\"yaxis2\":{\"anchor\":\"x2\",\"domain\":[0.0,1.0],\"title\":{\"text\":\"mean squared error (MSE)\"},\"type\":\"log\"},\"annotations\":[{\"font\":{\"size\":16},\"showarrow\":false,\"text\":\"samples per node histogram\",\"x\":0.225,\"xanchor\":\"center\",\"xref\":\"paper\",\"y\":1.0,\"yanchor\":\"bottom\",\"yref\":\"paper\"},{\"font\":{\"size\":16},\"showarrow\":false,\"text\":\"MSE vs mean samples per node\",\"x\":0.775,\"xanchor\":\"center\",\"xref\":\"paper\",\"y\":1.0,\"yanchor\":\"bottom\",\"yref\":\"paper\"}],\"showlegend\":true},                        {\"responsive\": true}                    ).then(function(){\n",
              "                            \n",
              "var gd = document.getElementById('142370bc-4206-4c3b-98cf-54b0e9598684');\n",
              "var x = new MutationObserver(function (mutations, observer) {{\n",
              "        var display = window.getComputedStyle(gd).display;\n",
              "        if (!display || display === 'none') {{\n",
              "            console.log([gd, 'removed!']);\n",
              "            Plotly.purge(gd);\n",
              "            observer.disconnect();\n",
              "        }}\n",
              "}});\n",
              "\n",
              "// Listen for the removal of the full notebook cells\n",
              "var notebookContainer = gd.closest('#notebook-container');\n",
              "if (notebookContainer) {{\n",
              "    x.observe(notebookContainer, {childList: true});\n",
              "}}\n",
              "\n",
              "// Listen for the clearing of the current output cell\n",
              "var outputEl = gd.closest('.output');\n",
              "if (outputEl) {{\n",
              "    x.observe(outputEl, {childList: true});\n",
              "}}\n",
              "\n",
              "                        })                };                });            </script>        </div>"
            ]
          },
          "metadata": {}
        }
      ]
    },
    {
      "cell_type": "markdown",
      "source": [
        ":::"
      ],
      "metadata": {
        "id": "1cnzVQ25l_BF"
      }
    },
    {
      "cell_type": "code",
      "source": [
        ""
      ],
      "metadata": {
        "id": "W3azBLHy_6dQ"
      },
      "execution_count": null,
      "outputs": []
    }
  ],
  "metadata": {
    "celltoolbar": "Tags",
    "kernelspec": {
      "display_name": "Python 3",
      "language": "python",
      "name": "python3"
    },
    "language_info": {
      "codemirror_mode": {
        "name": "ipython",
        "version": 3
      },
      "file_extension": ".py",
      "mimetype": "text/x-python",
      "name": "python",
      "nbconvert_exporter": "python",
      "pygments_lexer": "ipython3",
      "version": "3.6.9"
    },
    "colab": {
      "name": "main.ipynb",
      "provenance": [],
      "collapsed_sections": []
    }
  },
  "nbformat": 4,
  "nbformat_minor": 0
}