{
  "cells": [
    {
      "cell_type": "markdown",
      "source": [
        "---\n",
        "execute:\n",
        "    echo: false\n",
        "    warning: false\n",
        "\n",
        "format:\n",
        "    html:\n",
        "        themes: \"theme_ipol.scss\"\n",
        "        self-contained: true\n",
        "---"
      ],
      "metadata": {
        "id": "sMi7xIyvD9eg"
      }
    },
    {
      "cell_type": "code",
      "execution_count": null,
      "metadata": {
        "tags": [
          "parameters"
        ],
        "id": "RUMapaf1-7Wb"
      },
      "outputs": [],
      "source": [
        "n_nodes = 78 #@param {type:\"slider\", min:2, max:300, step:1}\n",
        "prob_law = \"log_normal_low_var\" #@param [\"log_normal_low_var\", \"log_normal_high_var\", \"gaussian_low_var\", \"gaussian_med_var\", \"gaussian_high_var\", \"poisson\", \"uniform_low_var\", \"uniform_high_var\", \"laplacian_low_var\", \"laplacian_med_var\", \"laplacian_high_var\", \"pareto\", \"weibull\"]\n",
        "feature_dims = 10 #@param {type:\"slider\", min:10, max:100, step:1}\n"
      ]
    },
    {
      "cell_type": "code",
      "execution_count": null,
      "metadata": {
        "id": "GcRini0L-7Wc"
      },
      "outputs": [],
      "source": [
        "n_montecarlo = 1\n",
        "gamma_list = [1.2, 1.0, 0.9, 0.8, 0.7, 0.6, 0.5, 0.4, 0.3, 0.2]"
      ]
    },
    {
      "cell_type": "code",
      "execution_count": null,
      "metadata": {
        "id": "oLJlKO6j-7Wd"
      },
      "outputs": [],
      "source": [
        "import numpy as np\n",
        "import scipy\n",
        "import random\n",
        "import math\n",
        "import matplotlib.pyplot as plt\n",
        "import matplotlib as mpl\n",
        "from sklearn.linear_model import Ridge, RidgeCV\n",
        "from scipy.stats import lognorm, poisson, uniform, norm, randint, weibull_min, laplace, pareto\n",
        "from matplotlib import rc\n",
        "import plotly.express as px\n",
        "from plotly.subplots import make_subplots\n",
        "import plotly.graph_objects as go\n",
        "import plotly.io as pio\n",
        "pio.renderers.default='notebook_connected'\n",
        "plt.ion()"
      ]
    },
    {
      "cell_type": "code",
      "execution_count": null,
      "metadata": {
        "id": "tYa3kzGs-7Wf"
      },
      "outputs": [],
      "source": [
        "mpl.style.use('seaborn-darkgrid')\n",
        "mpl.style.use('seaborn-pastel')\n",
        "mpl.rcParams['font.size'] = 15"
      ]
    },
    {
      "cell_type": "code",
      "execution_count": null,
      "metadata": {
        "id": "PCKeZ1M7-7Wg"
      },
      "outputs": [],
      "source": [
        "def generate_data(dimension, number_samples_per_node):\n",
        "    '''\n",
        "    Generate synthetic data and labels for all de nodes. Data samples are obtained from a standard\n",
        "    normal distribution, and the labels are synthetized using a randomly generated parameter vector\n",
        "    (where each of the componentes are randomly distributed).\n",
        "    Args:\n",
        "      dimension (int): dimension of the data vector (x)\n",
        "      number_samples_per_node (list or array): contains the number of samples for each node.\n",
        "    Returns:\n",
        "      x (list): the data samples of each node\n",
        "      y (list): the labels of each node\n",
        "      theta_star (array): the parameter vector\n",
        "    '''\n",
        "    theta_star = np.random.uniform(size = dimension)\n",
        "    x = []\n",
        "    y = []\n",
        "    for n_samples in number_samples_per_node:\n",
        "        x_i = np.random.normal(loc = 0, scale = 1., size = (n_samples, dimension))\n",
        "        y_i = x_i @ theta_star + np.random.normal(loc = 0, scale = 1., size = n_samples)\n",
        "        x.append(x_i)\n",
        "        y.append(y_i)\n",
        "\n",
        "    return x, y, theta_star\n",
        "\n",
        "def get_law_data_nodes(prob_law, n_nodes, gamma):\n",
        "    '''\n",
        "    Returns the number of samples per node from a given probability law with mean n_nodes**gamma.\n",
        "    Args:\n",
        "      prob_law (str): the probability distribution of the number of samples per node. Supported: 'gaussian_low_var', 'gaussian_med_var', \n",
        "      'gaussian_high_var', 'log_normal_low_var', 'log_normal_high_var', 'poisson', 'uniform_low_var', \n",
        "      'uniform_high_var', 'laplacian_low_var', 'laplacian_med_var', 'laplacian_high_var', 'pareto', 'weibull'. \n",
        "      Raises NotImplementedError if the probability law is not supported.\n",
        "      n_nodes (int): the total number of nodes\n",
        "      gamma (float): the parameter to set the mean number of samples per node (which is equal to n_nodes**gamma)\n",
        "\n",
        "    Returns:\n",
        "      an array of length n_nodes containing the number of samples for each node.\n",
        "    '''\n",
        "    \n",
        "    if prob_law == 'gaussian_low_var':\n",
        "        law_datanodes = norm.rvs(n_nodes**gamma, 0.1*n_nodes**gamma, size=n_nodes)\n",
        "    elif prob_law == 'gaussian_med_var':\n",
        "        law_datanodes = norm.rvs(n_nodes**gamma, 0.5*n_nodes**gamma, size=n_nodes)\n",
        "    elif prob_law == 'gaussian_high_var':\n",
        "        law_datanodes = norm.rvs(n_nodes**gamma, n_nodes**gamma, size=n_nodes)\n",
        "    elif prob_law == 'log_normal_low_var':\n",
        "        law_datanodes = lognorm.rvs(1, scale = (n_nodes**gamma)*np.exp(-1/2), size = n_nodes)\n",
        "    elif prob_law == 'log_normal_high_var':\n",
        "        law_datanodes = lognorm.rvs(2, scale = (n_nodes**gamma)*np.exp(2), size = n_nodes)\n",
        "    elif prob_law == 'poisson':\n",
        "        law_datanodes = poisson.rvs(n_nodes**gamma, size=n_nodes)\n",
        "    elif prob_law == 'uniform_low_var':\n",
        "        law_datanodes = randint.rvs(0.5*n_nodes**gamma, n_nodes**gamma, size=n_nodes)\n",
        "    elif prob_law == 'uniform_high_var':\n",
        "        law_datanodes = randint.rvs(0, 2*n_nodes**gamma, size=n_nodes)\n",
        "    elif prob_law == 'laplacian_low_var':\n",
        "        law_datanodes = laplace.rvs(loc=n_nodes**gamma, scale=0.1*n_nodes**gamma, size=n_nodes)\n",
        "    elif prob_law == 'laplacian_med_var':\n",
        "        law_datanodes = laplace.rvs(loc=n_nodes**gamma, scale=0.5*n_nodes**gamma, size=n_nodes)\n",
        "    elif prob_law == 'laplacian_high_var':\n",
        "        law_datanodes = laplace.rvs(loc=n_nodes**gamma, scale=n_nodes**gamma, size=n_nodes)\n",
        "    elif prob_law == 'pareto':\n",
        "        law_datanodes = pareto.rvs(b=2, scale=n_nodes**gamma/2, size=n_nodes)\n",
        "    elif prob_law == 'weibull':\n",
        "        law_datanodes = weibull_min.rvs(c=1.5, scale=n_nodes**gamma/math.gamma(1+1/1.5), size=n_nodes)\n",
        "    else:\n",
        "        raise NotImplementedError\n",
        "\n",
        "    for i in range(n_nodes):\n",
        "        #to ensure that the sample size is at least 1\n",
        "        law_datanodes[i] = max(1, law_datanodes[i])\n",
        "\n",
        "    return law_datanodes.astype(int)\n",
        "\n",
        "def weights(samples_per_node):\n",
        "    '''\n",
        "    Computes the weights for the FESC algorithm.\n",
        "    Args: \n",
        "      samples_per_node (array): array of length n_nodes containing the number of samples for each node.\n",
        "    \n",
        "    Returns:\n",
        "      an array of length n_nodes with the weights of each node for the final model aggregation\n",
        "    '''\n",
        "\n",
        "    # sort in decreasing order\n",
        "    samples_per_node_sorted = -np.sort(-samples_per_node)\n",
        "    idx_sorted_nodes = np.argsort(-samples_per_node)\n",
        "\n",
        "    a = 1./samples_per_node_sorted\n",
        "    b = 1./samples_per_node_sorted**2\n",
        "\n",
        "    # initializations\n",
        "    weights = np.zeros(len(samples_per_node))\n",
        "    temp_ab = b[0]/a[0]\n",
        "    temp_a = 1./a[0]\n",
        "    sum_ord_ab = 0\n",
        "    sum_ord_a = 0\n",
        "\n",
        "    # calculate k, the number of nodes that participate in the final aggregation\n",
        "    k = 0\n",
        "    while b[k] <= (2 + temp_ab) / (temp_a):\n",
        "        sum_ord_ab += b[k]/a[k]\n",
        "        sum_ord_a += 1./a[k]\n",
        "        if k == len(samples_per_node)-1:\n",
        "            break\n",
        "        k += 1\n",
        "        temp_ab = sum_ord_ab + b[k]/a[k]\n",
        "        temp_a = sum_ord_a + 1./a[k]\n",
        "    \n",
        "    # calculate the weights w_i for every node\n",
        "    for i in range(k):\n",
        "        node_idx = idx_sorted_nodes[i]\n",
        "        weights[node_idx] = - 0.5*b[i]/a[i] + 1./a[i]*(1. + 0.5*sum_ord_ab)/sum_ord_a\n",
        "\n",
        "    return weights\n",
        "\n",
        "def launch_simulation(montecarlo_rounds, n_nodes, feature_dims, gamma_list, prob_law):\n",
        "    '''\n",
        "    Launches simulation. Data is generated, and the theta parameter is estimated in 3 different ways: centralized learning, \n",
        "    classic Federated Learning and with the FESC algorithm.\n",
        "    Args:\n",
        "      montecarlo_round (int): number of Montecarlo iterations\n",
        "      n_nodes (int): number of nodes \n",
        "      feature_dims (int): number of dimensions of the features space\n",
        "      gamma_list (list or array): contains the different gammas for which the simulation will be performed\n",
        "      prob_law (str): probability distribution of the number of samples per node (of mean n_nodes**gamma)\n",
        "    Returns:\n",
        "      mse_theta_centralized (array): contains the MSE of the centralized model, for each gamma\n",
        "      mse_theta_fed (array): contains the MSE of the classicl federated model, for each gamma\n",
        "      mse_theta_FESC (array): contains the MSE of the FESC model, for each gamma\n",
        "      samples_per_node_to_plot (array): samples per node for gamma=1.2. This is used to illustrate the chosen probability distribution\n",
        "    '''\n",
        "    \n",
        "    # initialization\n",
        "    mse_centralized = np.zeros(len(gamma_list))\n",
        "    mse_fed = np.zeros(len(gamma_list))\n",
        "    mse_FESC = np.zeros(len(gamma_list))\n",
        "    \n",
        "    for gamma_idx, gamma in enumerate(gamma_list):                \n",
        "        #for each gamma, where the sample size expectation is equal to M^gamma\n",
        "        for _ in range(montecarlo_rounds):\n",
        "            \n",
        "            # generate number of samples per client\n",
        "            samples_per_node = get_law_data_nodes(prob_law, n_nodes, gamma)\n",
        "            lambda_ridge = 1./np.sqrt(np.sum(samples_per_node)) # lambda parameter of the ridge regression\n",
        "\n",
        "            # plot the samples per node histogram only for gamma=1.2\n",
        "            if gamma_idx == 0:\n",
        "              samples_per_node_to_plot = samples_per_node\n",
        "            \n",
        "            # generate data and labels\n",
        "            x, y, theta_star = generate_data(feature_dims, samples_per_node)\n",
        "\n",
        "            # centralized training\n",
        "            model = Ridge(alpha = lambda_ridge)\n",
        "            model.fit(np.concatenate(x), np.concatenate(y))\n",
        "            theta_centralized = model.coef_\n",
        "\n",
        "            # federated training\n",
        "            theta_nodes = np.zeros((n_nodes, feature_dims))\n",
        "\n",
        "            # local steps in all the nodes\n",
        "            for i,[xi,yi] in enumerate(zip(x,y)):\n",
        "                model = Ridge(alpha = lambda_ridge)\n",
        "                model.fit(xi, yi)\n",
        "                theta_nodes[i] = model.coef_\n",
        "                \n",
        "            # server aggregation\n",
        "            theta_fed = np.dot(samples_per_node/np.sum(samples_per_node), theta_nodes) # theta with weights proportional to the sample size\n",
        "            weights_FESC = weights(samples_per_node) # weights obtained for theta \"Good Practice\"\n",
        "            theta_FESC = np.dot(weights_FESC, theta_nodes)\n",
        "            \n",
        "            # compute MSE\n",
        "            mse_centralized[gamma_idx] += np.linalg.norm(theta_centralized - theta_star, 2)**2 / montecarlo_rounds\n",
        "            mse_fed[gamma_idx] += np.linalg.norm(theta_fed - theta_star, 2)**2 / montecarlo_rounds\n",
        "            mse_FESC[gamma_idx] += np.linalg.norm(theta_FESC - theta_star, 2)**2 / montecarlo_rounds\n",
        "            \n",
        "    return mse_centralized, mse_fed, mse_FESC, samples_per_node_to_plot"
      ]
    },
    {
      "cell_type": "code",
      "source": [
        "def plot_images_interactive(mse_centralized, mse_fed, mse_FESC, gammas, n_nodes, samples_per_node):\n",
        "    '''\n",
        "    Plots interactive images that show the results\n",
        "    Args:\n",
        "      mse_centralized (array): contains the MSE of the centralized model, for each gamma\n",
        "      mse_fed (array): contains the MSE of the classicl federated model, for each gamma\n",
        "      mse_FESC (array): contains the MSE of the FESC model, for each gamma\n",
        "      gammas (list or array): gammas used for each MSE\n",
        "      n_nodes (int): number of nodes\n",
        "      samples_per_node (list or array): contains the number of samples for each node\n",
        "    '''\n",
        "\n",
        "    fig = make_subplots(rows=1, cols=2, subplot_titles=('samples per node histogram', 'MSE vs mean samples per node'))\n",
        "\n",
        "    fig.add_trace(go.Histogram(x=samples_per_node, nbinsx=int(0.2*n_nodes), histnorm=\"percent\", showlegend = False),1,1)\n",
        "    fig.update_xaxes(title_text=\"number of samples per node\", row=1, col=1)\n",
        "    fig.update_yaxes(title_text=\"count\", row=1, col=1)\n",
        "\n",
        "    fig.add_trace(go.Scatter(x=gammas, y=mse_centralized, name=\"Centralized\"),1,2)\n",
        "    fig.add_trace(go.Scatter(x=gammas, y=mse_fed, name='Federated'),1,2)\n",
        "    fig.add_trace(go.Scatter(x=gammas, y=mse_FESC, name='FESC'),1,2)\n",
        "    \n",
        "    fig.update_xaxes(title_text=\"gamma\", row=1, col=2)\n",
        "    fig.update_yaxes(title_text=\"mean squared error (MSE)\", type=\"log\", row=1, col=2)\n",
        "\n",
        "    fig.update_layout(showlegend=True)\n",
        "\n",
        "    fig.show()\n",
        "\n",
        "def plot_result(mse_centralized, mse_fed, mse_FESC, gammas, n_nodes, samples_per_node):\n",
        "    '''\n",
        "    Plots the simulation results.\n",
        "    Args:\n",
        "      mse_centralized (array): contains the MSE of the centralized model, for each gamma\n",
        "      mse_fed (array): contains the MSE of the classicl federated model, for each gamma\n",
        "      mse_FESC (array): contains the MSE of the FESC model, for each gamma\n",
        "      gammas (list or array): gammas used for each MSE\n",
        "      n_nodes (int): number of nodes\n",
        "      samples_per_node (list or array): contains the number of samples for each node\n",
        "    '''\n",
        "\n",
        "    # samples per node histogram\n",
        "    f = plt.figure(figsize=(14,5))\n",
        "    ax1 = f.add_subplot(121)\n",
        "    ax2 = f.add_subplot(122)\n",
        "\n",
        "    weights = np.ones_like(samples_per_node)/float(len(samples_per_node))\n",
        "    ax1.hist(samples_per_node, bins=int(0.2*n_nodes), weights=weights)\n",
        "    ax1.set_xlabel(\"number of samples per node\")\n",
        "    ax1.set_ylabel(\"count\")\n",
        "    ax1.set_title('samples per node histogram')\n",
        "    ax1.grid('on')\n",
        "\n",
        "    # output image\n",
        "    ax2.plot(gammas, mse_centralized, '+-', label = \"Centralized\") #sco theta\n",
        "    ax2.plot(gammas, mse_fed, '+-', label = \"Federated\") #sco theta s\n",
        "    ax2.plot(gammas, mse_FESC, '+-',label = \"FESC\") #sco theta GP\n",
        "    ax2.set_yscale('log')\n",
        "    ax2.legend()\n",
        "    ax2.set_xlabel(\"gamma\")\n",
        "    ax2.set_title('MSE vs mean samples per node')\n",
        "    ax2.set_ylabel(\"mean squared error (MSE)\")\n",
        "    ax2.grid('on')\n",
        "\n",
        "    plt.tight_layout()"
      ],
      "metadata": {
        "id": "3ITKlrmCTb6m"
      },
      "execution_count": null,
      "outputs": []
    },
    {
      "cell_type": "code",
      "execution_count": 1,
      "metadata": {
        "id": "Yr-hlJrX-7Wm",
        "colab": {
          "base_uri": "https://localhost:8080/",
          "height": 165
        },
        "outputId": "6041f7ee-e9f9-4a04-be54-1b1c741c291b"
      },
      "outputs": [
        {
          "output_type": "error",
          "ename": "NameError",
          "evalue": "ignored",
          "traceback": [
            "\u001b[0;31m---------------------------------------------------------------------------\u001b[0m",
            "\u001b[0;31mNameError\u001b[0m                                 Traceback (most recent call last)",
            "\u001b[0;32m<ipython-input-1-e3f2d71ad224>\u001b[0m in \u001b[0;36m<module>\u001b[0;34m()\u001b[0m\n\u001b[0;32m----> 1\u001b[0;31m \u001b[0mmse_centralized\u001b[0m\u001b[0;34m,\u001b[0m \u001b[0mmse_fed\u001b[0m\u001b[0;34m,\u001b[0m \u001b[0mmse_FESC\u001b[0m\u001b[0;34m,\u001b[0m \u001b[0msamples_per_node\u001b[0m \u001b[0;34m=\u001b[0m \u001b[0mlaunch_simulation\u001b[0m\u001b[0;34m(\u001b[0m\u001b[0mn_montecarlo\u001b[0m\u001b[0;34m,\u001b[0m \u001b[0mn_nodes\u001b[0m\u001b[0;34m,\u001b[0m \u001b[0mfeature_dims\u001b[0m\u001b[0;34m,\u001b[0m \u001b[0mgamma_list\u001b[0m\u001b[0;34m,\u001b[0m \u001b[0mprob_law\u001b[0m\u001b[0;34m)\u001b[0m\u001b[0;34m\u001b[0m\u001b[0;34m\u001b[0m\u001b[0m\n\u001b[0m",
            "\u001b[0;31mNameError\u001b[0m: name 'launch_simulation' is not defined"
          ]
        }
      ],
      "source": [
        "mse_centralized, mse_fed, mse_FESC, samples_per_node = launch_simulation(n_montecarlo, n_nodes, feature_dims, gamma_list, prob_law)"
      ]
    },
    {
      "cell_type": "markdown",
      "source": [
        "::: {.column-screen}"
      ],
      "metadata": {
        "id": "7BE2wsJlvli4"
      }
    },
    {
      "cell_type": "code",
      "source": [
        "print('You need at least {} samples (in average) per node to equal the performance of a centralized training with Federated Learning'.format(n_nodes))"
      ],
      "metadata": {
        "id": "lyRtzZG1q0A0"
      },
      "execution_count": null,
      "outputs": []
    },
    {
      "cell_type": "markdown",
      "source": [
        ":::"
      ],
      "metadata": {
        "id": "VGURuOyjvmjB"
      }
    },
    {
      "cell_type": "markdown",
      "source": [
        "::: {.column-screen}"
      ],
      "metadata": {
        "id": "hTxCgIGLl5bQ"
      }
    },
    {
      "cell_type": "code",
      "source": [
        "plot_images_interactive(mse_centralized, mse_fed, mse_FESC, gamma_list, n_nodes, samples_per_node)"
      ],
      "metadata": {
        "colab": {
          "base_uri": "https://localhost:8080/",
          "height": 542
        },
        "id": "1ED_8c9CgjWN",
        "outputId": "6820bba4-fd9b-412a-ed64-9fdb3fba5d6a"
      },
      "execution_count": null,
      "outputs": [
        {
          "output_type": "display_data",
          "data": {
            "text/html": [
              "        <script type=\"text/javascript\">\n",
              "        window.PlotlyConfig = {MathJaxConfig: 'local'};\n",
              "        if (window.MathJax) {MathJax.Hub.Config({SVG: {font: \"STIX-Web\"}});}\n",
              "        if (typeof require !== 'undefined') {\n",
              "        require.undef(\"plotly\");\n",
              "        requirejs.config({\n",
              "            paths: {\n",
              "                'plotly': ['https://cdn.plot.ly/plotly-2.8.3.min']\n",
              "            }\n",
              "        });\n",
              "        require(['plotly'], function(Plotly) {\n",
              "            window._Plotly = Plotly;\n",
              "        });\n",
              "        }\n",
              "        </script>\n",
              "        "
            ]
          },
          "metadata": {}
        },
        {
          "output_type": "display_data",
          "data": {
            "text/html": [
              "<div>                            <div id=\"73589330-e42b-4186-b3f4-04cd4db2fc7c\" class=\"plotly-graph-div\" style=\"height:525px; width:100%;\"></div>            <script type=\"text/javascript\">                require([\"plotly\"], function(Plotly) {                    window.PLOTLYENV=window.PLOTLYENV || {};                                    if (document.getElementById(\"73589330-e42b-4186-b3f4-04cd4db2fc7c\")) {                    Plotly.newPlot(                        \"73589330-e42b-4186-b3f4-04cd4db2fc7c\",                        [{\"histnorm\":\"percent\",\"nbinsx\":15,\"showlegend\":false,\"x\":[198,171,77,472,238,106,9,93,133,74,106,219,86,635,70,101,229,55,21,525,29,421,271,56,54,389,137,334,106,380,14,75,50,261,25,110,66,111,133,54,96,195,373,21,45,365,65,850,27,526,142,53,49,93,523,65,98,32,23,66,47,91,68,215,62,211,140,40,115,28,86,21,301,120,84,534,60,93],\"type\":\"histogram\",\"xaxis\":\"x\",\"yaxis\":\"y\"},{\"name\":\"Centralized\",\"x\":[1.2,1.0,0.9,0.8,0.7,0.6,0.5,0.4,0.3,0.2],\"y\":[0.0005766649502318364,0.0008262830418921067,0.0010803278552586387,0.0023232028169958997,0.005957684145068398,0.011944936779735474,0.014572825421591731,0.02079256596980177,0.015999250594143925,0.07092740019805602],\"type\":\"scatter\",\"xaxis\":\"x2\",\"yaxis\":\"y2\"},{\"name\":\"Federated\",\"x\":[1.2,1.0,0.9,0.8,0.7,0.6,0.5,0.4,0.3,0.2],\"y\":[0.0008680838061492928,0.001196369849216893,0.004331253266941666,0.005169688704745342,0.026011437885344407,0.08585647654806902,0.178954329992011,0.7102995058645214,1.1507506322833303,2.4394345739181698],\"type\":\"scatter\",\"xaxis\":\"x2\",\"yaxis\":\"y2\"},{\"name\":\"FESC\",\"x\":[1.2,1.0,0.9,0.8,0.7,0.6,0.5,0.4,0.3,0.2],\"y\":[0.0006851916163440045,0.0011091137986626379,0.002475936100787172,0.005096522464671113,0.015187907525820141,0.017880311466457507,0.03536338552469044,0.3054143600693427,0.210370887526069,1.0602797100672254],\"type\":\"scatter\",\"xaxis\":\"x2\",\"yaxis\":\"y2\"}],                        {\"template\":{\"data\":{\"bar\":[{\"error_x\":{\"color\":\"#2a3f5f\"},\"error_y\":{\"color\":\"#2a3f5f\"},\"marker\":{\"line\":{\"color\":\"#E5ECF6\",\"width\":0.5},\"pattern\":{\"fillmode\":\"overlay\",\"size\":10,\"solidity\":0.2}},\"type\":\"bar\"}],\"barpolar\":[{\"marker\":{\"line\":{\"color\":\"#E5ECF6\",\"width\":0.5},\"pattern\":{\"fillmode\":\"overlay\",\"size\":10,\"solidity\":0.2}},\"type\":\"barpolar\"}],\"carpet\":[{\"aaxis\":{\"endlinecolor\":\"#2a3f5f\",\"gridcolor\":\"white\",\"linecolor\":\"white\",\"minorgridcolor\":\"white\",\"startlinecolor\":\"#2a3f5f\"},\"baxis\":{\"endlinecolor\":\"#2a3f5f\",\"gridcolor\":\"white\",\"linecolor\":\"white\",\"minorgridcolor\":\"white\",\"startlinecolor\":\"#2a3f5f\"},\"type\":\"carpet\"}],\"choropleth\":[{\"colorbar\":{\"outlinewidth\":0,\"ticks\":\"\"},\"type\":\"choropleth\"}],\"contour\":[{\"colorbar\":{\"outlinewidth\":0,\"ticks\":\"\"},\"colorscale\":[[0.0,\"#0d0887\"],[0.1111111111111111,\"#46039f\"],[0.2222222222222222,\"#7201a8\"],[0.3333333333333333,\"#9c179e\"],[0.4444444444444444,\"#bd3786\"],[0.5555555555555556,\"#d8576b\"],[0.6666666666666666,\"#ed7953\"],[0.7777777777777778,\"#fb9f3a\"],[0.8888888888888888,\"#fdca26\"],[1.0,\"#f0f921\"]],\"type\":\"contour\"}],\"contourcarpet\":[{\"colorbar\":{\"outlinewidth\":0,\"ticks\":\"\"},\"type\":\"contourcarpet\"}],\"heatmap\":[{\"colorbar\":{\"outlinewidth\":0,\"ticks\":\"\"},\"colorscale\":[[0.0,\"#0d0887\"],[0.1111111111111111,\"#46039f\"],[0.2222222222222222,\"#7201a8\"],[0.3333333333333333,\"#9c179e\"],[0.4444444444444444,\"#bd3786\"],[0.5555555555555556,\"#d8576b\"],[0.6666666666666666,\"#ed7953\"],[0.7777777777777778,\"#fb9f3a\"],[0.8888888888888888,\"#fdca26\"],[1.0,\"#f0f921\"]],\"type\":\"heatmap\"}],\"heatmapgl\":[{\"colorbar\":{\"outlinewidth\":0,\"ticks\":\"\"},\"colorscale\":[[0.0,\"#0d0887\"],[0.1111111111111111,\"#46039f\"],[0.2222222222222222,\"#7201a8\"],[0.3333333333333333,\"#9c179e\"],[0.4444444444444444,\"#bd3786\"],[0.5555555555555556,\"#d8576b\"],[0.6666666666666666,\"#ed7953\"],[0.7777777777777778,\"#fb9f3a\"],[0.8888888888888888,\"#fdca26\"],[1.0,\"#f0f921\"]],\"type\":\"heatmapgl\"}],\"histogram\":[{\"marker\":{\"pattern\":{\"fillmode\":\"overlay\",\"size\":10,\"solidity\":0.2}},\"type\":\"histogram\"}],\"histogram2d\":[{\"colorbar\":{\"outlinewidth\":0,\"ticks\":\"\"},\"colorscale\":[[0.0,\"#0d0887\"],[0.1111111111111111,\"#46039f\"],[0.2222222222222222,\"#7201a8\"],[0.3333333333333333,\"#9c179e\"],[0.4444444444444444,\"#bd3786\"],[0.5555555555555556,\"#d8576b\"],[0.6666666666666666,\"#ed7953\"],[0.7777777777777778,\"#fb9f3a\"],[0.8888888888888888,\"#fdca26\"],[1.0,\"#f0f921\"]],\"type\":\"histogram2d\"}],\"histogram2dcontour\":[{\"colorbar\":{\"outlinewidth\":0,\"ticks\":\"\"},\"colorscale\":[[0.0,\"#0d0887\"],[0.1111111111111111,\"#46039f\"],[0.2222222222222222,\"#7201a8\"],[0.3333333333333333,\"#9c179e\"],[0.4444444444444444,\"#bd3786\"],[0.5555555555555556,\"#d8576b\"],[0.6666666666666666,\"#ed7953\"],[0.7777777777777778,\"#fb9f3a\"],[0.8888888888888888,\"#fdca26\"],[1.0,\"#f0f921\"]],\"type\":\"histogram2dcontour\"}],\"mesh3d\":[{\"colorbar\":{\"outlinewidth\":0,\"ticks\":\"\"},\"type\":\"mesh3d\"}],\"parcoords\":[{\"line\":{\"colorbar\":{\"outlinewidth\":0,\"ticks\":\"\"}},\"type\":\"parcoords\"}],\"pie\":[{\"automargin\":true,\"type\":\"pie\"}],\"scatter\":[{\"marker\":{\"colorbar\":{\"outlinewidth\":0,\"ticks\":\"\"}},\"type\":\"scatter\"}],\"scatter3d\":[{\"line\":{\"colorbar\":{\"outlinewidth\":0,\"ticks\":\"\"}},\"marker\":{\"colorbar\":{\"outlinewidth\":0,\"ticks\":\"\"}},\"type\":\"scatter3d\"}],\"scattercarpet\":[{\"marker\":{\"colorbar\":{\"outlinewidth\":0,\"ticks\":\"\"}},\"type\":\"scattercarpet\"}],\"scattergeo\":[{\"marker\":{\"colorbar\":{\"outlinewidth\":0,\"ticks\":\"\"}},\"type\":\"scattergeo\"}],\"scattergl\":[{\"marker\":{\"colorbar\":{\"outlinewidth\":0,\"ticks\":\"\"}},\"type\":\"scattergl\"}],\"scattermapbox\":[{\"marker\":{\"colorbar\":{\"outlinewidth\":0,\"ticks\":\"\"}},\"type\":\"scattermapbox\"}],\"scatterpolar\":[{\"marker\":{\"colorbar\":{\"outlinewidth\":0,\"ticks\":\"\"}},\"type\":\"scatterpolar\"}],\"scatterpolargl\":[{\"marker\":{\"colorbar\":{\"outlinewidth\":0,\"ticks\":\"\"}},\"type\":\"scatterpolargl\"}],\"scatterternary\":[{\"marker\":{\"colorbar\":{\"outlinewidth\":0,\"ticks\":\"\"}},\"type\":\"scatterternary\"}],\"surface\":[{\"colorbar\":{\"outlinewidth\":0,\"ticks\":\"\"},\"colorscale\":[[0.0,\"#0d0887\"],[0.1111111111111111,\"#46039f\"],[0.2222222222222222,\"#7201a8\"],[0.3333333333333333,\"#9c179e\"],[0.4444444444444444,\"#bd3786\"],[0.5555555555555556,\"#d8576b\"],[0.6666666666666666,\"#ed7953\"],[0.7777777777777778,\"#fb9f3a\"],[0.8888888888888888,\"#fdca26\"],[1.0,\"#f0f921\"]],\"type\":\"surface\"}],\"table\":[{\"cells\":{\"fill\":{\"color\":\"#EBF0F8\"},\"line\":{\"color\":\"white\"}},\"header\":{\"fill\":{\"color\":\"#C8D4E3\"},\"line\":{\"color\":\"white\"}},\"type\":\"table\"}]},\"layout\":{\"annotationdefaults\":{\"arrowcolor\":\"#2a3f5f\",\"arrowhead\":0,\"arrowwidth\":1},\"autotypenumbers\":\"strict\",\"coloraxis\":{\"colorbar\":{\"outlinewidth\":0,\"ticks\":\"\"}},\"colorscale\":{\"diverging\":[[0,\"#8e0152\"],[0.1,\"#c51b7d\"],[0.2,\"#de77ae\"],[0.3,\"#f1b6da\"],[0.4,\"#fde0ef\"],[0.5,\"#f7f7f7\"],[0.6,\"#e6f5d0\"],[0.7,\"#b8e186\"],[0.8,\"#7fbc41\"],[0.9,\"#4d9221\"],[1,\"#276419\"]],\"sequential\":[[0.0,\"#0d0887\"],[0.1111111111111111,\"#46039f\"],[0.2222222222222222,\"#7201a8\"],[0.3333333333333333,\"#9c179e\"],[0.4444444444444444,\"#bd3786\"],[0.5555555555555556,\"#d8576b\"],[0.6666666666666666,\"#ed7953\"],[0.7777777777777778,\"#fb9f3a\"],[0.8888888888888888,\"#fdca26\"],[1.0,\"#f0f921\"]],\"sequentialminus\":[[0.0,\"#0d0887\"],[0.1111111111111111,\"#46039f\"],[0.2222222222222222,\"#7201a8\"],[0.3333333333333333,\"#9c179e\"],[0.4444444444444444,\"#bd3786\"],[0.5555555555555556,\"#d8576b\"],[0.6666666666666666,\"#ed7953\"],[0.7777777777777778,\"#fb9f3a\"],[0.8888888888888888,\"#fdca26\"],[1.0,\"#f0f921\"]]},\"colorway\":[\"#636efa\",\"#EF553B\",\"#00cc96\",\"#ab63fa\",\"#FFA15A\",\"#19d3f3\",\"#FF6692\",\"#B6E880\",\"#FF97FF\",\"#FECB52\"],\"font\":{\"color\":\"#2a3f5f\"},\"geo\":{\"bgcolor\":\"white\",\"lakecolor\":\"white\",\"landcolor\":\"#E5ECF6\",\"showlakes\":true,\"showland\":true,\"subunitcolor\":\"white\"},\"hoverlabel\":{\"align\":\"left\"},\"hovermode\":\"closest\",\"mapbox\":{\"style\":\"light\"},\"paper_bgcolor\":\"white\",\"plot_bgcolor\":\"#E5ECF6\",\"polar\":{\"angularaxis\":{\"gridcolor\":\"white\",\"linecolor\":\"white\",\"ticks\":\"\"},\"bgcolor\":\"#E5ECF6\",\"radialaxis\":{\"gridcolor\":\"white\",\"linecolor\":\"white\",\"ticks\":\"\"}},\"scene\":{\"xaxis\":{\"backgroundcolor\":\"#E5ECF6\",\"gridcolor\":\"white\",\"gridwidth\":2,\"linecolor\":\"white\",\"showbackground\":true,\"ticks\":\"\",\"zerolinecolor\":\"white\"},\"yaxis\":{\"backgroundcolor\":\"#E5ECF6\",\"gridcolor\":\"white\",\"gridwidth\":2,\"linecolor\":\"white\",\"showbackground\":true,\"ticks\":\"\",\"zerolinecolor\":\"white\"},\"zaxis\":{\"backgroundcolor\":\"#E5ECF6\",\"gridcolor\":\"white\",\"gridwidth\":2,\"linecolor\":\"white\",\"showbackground\":true,\"ticks\":\"\",\"zerolinecolor\":\"white\"}},\"shapedefaults\":{\"line\":{\"color\":\"#2a3f5f\"}},\"ternary\":{\"aaxis\":{\"gridcolor\":\"white\",\"linecolor\":\"white\",\"ticks\":\"\"},\"baxis\":{\"gridcolor\":\"white\",\"linecolor\":\"white\",\"ticks\":\"\"},\"bgcolor\":\"#E5ECF6\",\"caxis\":{\"gridcolor\":\"white\",\"linecolor\":\"white\",\"ticks\":\"\"}},\"title\":{\"x\":0.05},\"xaxis\":{\"automargin\":true,\"gridcolor\":\"white\",\"linecolor\":\"white\",\"ticks\":\"\",\"title\":{\"standoff\":15},\"zerolinecolor\":\"white\",\"zerolinewidth\":2},\"yaxis\":{\"automargin\":true,\"gridcolor\":\"white\",\"linecolor\":\"white\",\"ticks\":\"\",\"title\":{\"standoff\":15},\"zerolinecolor\":\"white\",\"zerolinewidth\":2}}},\"xaxis\":{\"anchor\":\"y\",\"domain\":[0.0,0.45],\"title\":{\"text\":\"number of samples per node\"}},\"yaxis\":{\"anchor\":\"x\",\"domain\":[0.0,1.0],\"title\":{\"text\":\"count\"}},\"xaxis2\":{\"anchor\":\"y2\",\"domain\":[0.55,1.0],\"title\":{\"text\":\"gamma\"}},\"yaxis2\":{\"anchor\":\"x2\",\"domain\":[0.0,1.0],\"title\":{\"text\":\"mean squared error (MSE)\"},\"type\":\"log\"},\"annotations\":[{\"font\":{\"size\":16},\"showarrow\":false,\"text\":\"samples per node histogram\",\"x\":0.225,\"xanchor\":\"center\",\"xref\":\"paper\",\"y\":1.0,\"yanchor\":\"bottom\",\"yref\":\"paper\"},{\"font\":{\"size\":16},\"showarrow\":false,\"text\":\"MSE vs mean samples per node\",\"x\":0.775,\"xanchor\":\"center\",\"xref\":\"paper\",\"y\":1.0,\"yanchor\":\"bottom\",\"yref\":\"paper\"}],\"showlegend\":true},                        {\"responsive\": true}                    ).then(function(){\n",
              "                            \n",
              "var gd = document.getElementById('73589330-e42b-4186-b3f4-04cd4db2fc7c');\n",
              "var x = new MutationObserver(function (mutations, observer) {{\n",
              "        var display = window.getComputedStyle(gd).display;\n",
              "        if (!display || display === 'none') {{\n",
              "            console.log([gd, 'removed!']);\n",
              "            Plotly.purge(gd);\n",
              "            observer.disconnect();\n",
              "        }}\n",
              "}});\n",
              "\n",
              "// Listen for the removal of the full notebook cells\n",
              "var notebookContainer = gd.closest('#notebook-container');\n",
              "if (notebookContainer) {{\n",
              "    x.observe(notebookContainer, {childList: true});\n",
              "}}\n",
              "\n",
              "// Listen for the clearing of the current output cell\n",
              "var outputEl = gd.closest('.output');\n",
              "if (outputEl) {{\n",
              "    x.observe(outputEl, {childList: true});\n",
              "}}\n",
              "\n",
              "                        })                };                });            </script>        </div>"
            ]
          },
          "metadata": {}
        }
      ]
    },
    {
      "cell_type": "markdown",
      "source": [
        ":::"
      ],
      "metadata": {
        "id": "1cnzVQ25l_BF"
      }
    },
    {
      "cell_type": "code",
      "source": [
        ""
      ],
      "metadata": {
        "id": "10QrAFz68WQD"
      },
      "execution_count": null,
      "outputs": []
    }
  ],
  "metadata": {
    "celltoolbar": "Tags",
    "kernelspec": {
      "display_name": "Python 3",
      "language": "python",
      "name": "python3"
    },
    "language_info": {
      "codemirror_mode": {
        "name": "ipython",
        "version": 3
      },
      "file_extension": ".py",
      "mimetype": "text/x-python",
      "name": "python",
      "nbconvert_exporter": "python",
      "pygments_lexer": "ipython3",
      "version": "3.6.9"
    },
    "colab": {
      "name": "main.ipynb",
      "provenance": [],
      "collapsed_sections": []
    }
  },
  "nbformat": 4,
  "nbformat_minor": 0
}